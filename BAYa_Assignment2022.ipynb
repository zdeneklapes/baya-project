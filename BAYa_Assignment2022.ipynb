{
 "cells": [
  {
   "cell_type": "markdown",
   "metadata": {},
   "source": [
    "# BAYa class Assignment 2022\n",
    "\n",
    "In this assignment, your task will be to implement and analyze inference in the Bayesian Laten Dirichlet Alocation (LDA) model as\n",
    "described in the corresponding [slides from BAYa class](http://www.fit.vutbr.cz/study/courses/BAYa/public/prednasky/4.5-LatentDirichletAllocation.pdf). You will accomplish this task by completing this Jupyter Notebook, which already comes with a code generating the training data and some plotting functions for presenting the results. If you do not have any experience with Jupyter Notebook, the easiest way to start is to install Anaconda3, run Jupyter Notebook and open this notebook downloaded from [BAYa_Assignment2022.ipynb](http://www.fit.vutbr.cz/study/courses/BAYa/public/notebooks/BAYa_Assignment2022.ipynb). You can also find some ispiration and pieces of code to reuse (e.g. KL divegence for Dirichlet distribution) in the other [Jupyter Notebooks provided for this class](http://www.fit.vutbr.cz/study/courses/BAYa/public/notebooks).\n",
    "\n",
    "The Notebook is organized as follows:\n",
    "1. First comes a cell with a code of functions that will be used for presenting the results and the learned models. Specifically, it contais code for plotting points into 2-simplex, plotting Dirichlet distribution and plotting topic specific distributions. You can skip this cell first as the use of the functions will be demostrated later.\n",
    "2. Next comes a code which \"handcrafts\" some parameters of the LDA model and implements the generative process assumed by the LDA model. The code generates some artificial training data that you will use for LDA model training. Please carefully read this code and the comments around.\n",
    "3. At the end of this notebook, there are cells with instructions to fill in your implementation of the LDA model training using Gibbs Sampling (GS) and Variationa Bayes (VB) inference. There are also fileds with other tasks to accomplish and questions to answer.\n",
    "\n",
    "\n",
    "\n",
    "The following cell contains code with the definition of the training data and the contrastive system training. You should not edit this part! The code does the following:"
   ]
  },
  {
   "cell_type": "code",
   "execution_count": 191,
   "metadata": {},
   "outputs": [],
   "source": [
    "# Run this code! But there is no need to pay much attention to this cell at the first pass through the notebook\n",
    "\n",
    "%matplotlib inline\n",
    "import numpy as np\n",
    "import matplotlib.pyplot as plt\n",
    "import matplotlib.tri as tri\n",
    "import scipy.stats as sps\n",
    "from scipy import sparse\n",
    "\n",
    "# Pre-calculate some global data used by functions plot_simplex, plot_dirichlet and plot_points_in_simplex\n",
    "_corners = np.array([[0, 0], [1, 0], [0.5, 0.75 ** 0.5]])\n",
    "_invT = np.linalg.inv(_corners[:2] - _corners[2])\n",
    "_triangle = tri.Triangulation(_corners[:, 0], _corners[:, 1])\n",
    "_refiner = tri.UniformTriRefiner(_triangle)\n",
    "_trimesh = _refiner.refine_triangulation(subdiv=7)\n",
    "# Now convert _trimesh 2D cartesian coordinates to 3D barycentric coordinates (i.e. 3D point on the 2D simplex)\n",
    "# as described in https://en.wikipedia.org/wiki/Barycentric_coordinate_system#Edge_approach\n",
    "# We calculate only the first 2 barycentric coordinates as sps.dirichlet.pdf is happy without the last one (l3 = 1-l1+l2)\n",
    "_tol = 1.e-8\n",
    "_l1l2 = (np.c_[_trimesh.x, _trimesh.y] - _corners[2]) @ _invT\n",
    "_l1l2 = np.clip(_l1l2, 2 * _tol,\n",
    "                1.0 - _tol) - _tol  # to make sure that none of the probabilities is exactly zero or one\n",
    "\n",
    "\n",
    "def plot_simplex(class_labels=[\"\"] * 3):\n",
    "    '''Plot \"axis\" for 2-simplex. It simply plots a triangle into which we will be ploting points\n",
    "       representing Categorical distributions (for 3 categories/topics) or a Dirichlet distribution.\n",
    "    Arguments:\n",
    "       class_labels: list of 3 strings that are used as labels (i.e. category/topic names) for the\n",
    "       simplex (triangle) corners\n",
    "    '''\n",
    "    plt.triplot(_triangle, linewidth=1)\n",
    "    #plt.xlim(0, 1)\n",
    "    #plt.ylim(0, 0.75**0.5)\n",
    "    plt.axis('equal')\n",
    "    plt.axis('off')\n",
    "    plt.text(0, 0, class_labels[0], horizontalalignment='left', verticalalignment='top')\n",
    "    plt.text(1, 0, class_labels[1], horizontalalignment='right', verticalalignment='top')\n",
    "    plt.text(0.5, 0.75 ** 0.5, class_labels[2], horizontalalignment='center', verticalalignment='bottom')\n",
    "\n",
    "\n",
    "def plot_dirichlet(alpha, nlevels=128, **kwargs):\n",
    "    '''Plot Dirichlet pdf in an equilateral triangle (2-simplex).\n",
    "    Arguments:\n",
    "        alpha: Dirichlet distribution parameters.\n",
    "        nlevels (int): Number of contours (shades) to draw.\n",
    "        kwargs: Keyword args passed on to `plt.tricontourf`.\n",
    "    '''\n",
    "    plt.tricontourf(_trimesh, sps.dirichlet.pdf(_l1l2.T, alpha), nlevels, cmap='gray_r', **kwargs)\n",
    "\n",
    "\n",
    "def plot_points_in_simplex(X, **kwargs):\n",
    "    '''Plots a set of points in the 2-simplex. Each point can represent\n",
    "       a categorical distribution with 3 categories/topics.\n",
    "    Arguments:\n",
    "        X: A Nx3 array in barycentric coordinates of points to plot.\n",
    "        kwargs: Keyword args passed on to `plt.plot`.\n",
    "    '''\n",
    "    plt.plot(*(X @ _corners).T, **kwargs)\n",
    "\n",
    "\n",
    "def plot_topic_distributions(Phi, vocabulary, top_V=10):\n",
    "    '''Plot words and their probabilities for each topic.\n",
    "    Arguments:\n",
    "        Phi: A KxD matrix where rows are topic specific distributions\n",
    "        vocabulary: List of strings that are words corresponding to columns of Phi\n",
    "        top_V: Only top_V most likely words and their probabilities are shown.\n",
    "    '''\n",
    "    plt.figure(figsize=(20, 4))\n",
    "    for k, topic_dist in enumerate(Phi):\n",
    "        plt.subplot(1, len(Phi), k + 1)\n",
    "        sort_ixs = np.argsort(topic_dist)[::-1]\n",
    "        top_V_words = [vocabulary[i] for i in sort_ixs[:top_V]]\n",
    "        plt.barh(np.arange(len(top_V_words) / 2, 0, -0.5), topic_dist[sort_ixs[:top_V]], height=0.4)\n",
    "        plt.yticks(np.arange(len(top_V_words) / 2, 0, -0.5), top_V_words, fontsize=12)\n",
    "        plt.grid(axis='x', linestyle='--', alpha=0.5)\n",
    "        plt.title(\"Topic %2d\" % (k + 1,))\n",
    "        plt.xlabel(\"Probability\")"
   ]
  },
  {
   "cell_type": "markdown",
   "metadata": {},
   "source": [
    "## LDA generative process\n",
    "The generative process assumed by the Bayesian Laten Dirichlet Alocation model is\n",
    "\n",
    "\\begin{align}\n",
    "{\\boldsymbol\\varphi}_k &\\sim \\operatorname{Dir}(\\boldsymbol{\\beta}_0), && \\text{for } k=1, \\dots, K\\\\\n",
    "{\\boldsymbol\\theta}_d &\\sim \\operatorname{Dir}(\\boldsymbol{\\alpha}_0), && \\text{for } d=1, \\dots, D\\\\\n",
    "z_{dn} &\\sim \\operatorname{Cat}(\\boldsymbol\\theta_d),  &&\\text{for } d=1, \\dots, D,\\quad n=1, \\dots, N_d\\\\\n",
    "w_{dn} &\\sim \\operatorname{Cat}(\\boldsymbol\\varphi_{z_{dt}}),   &&\\text{for } d=1, \\dots, D,\\quad   n=1, \\dots, N_d,\\\\\n",
    "\\end{align}\n",
    "where ${\\boldsymbol\\varphi}_k$ are topic specific word distributions, ${\\boldsymbol\\theta}_d$ are document specific topic distributions (topic mixture weights), $z_{dn}=k$ denotes that the $n^{th}$ word in document $d$ comes from topic $k$, and $w_{dn}=v$ denotes that the $n^{th}$ word in document $d$ is $v$. However, our training data will not be represented in terms of $w_{dn}$. It will be compactly represented by a $D\\times V$ word count matrix $\\boldsymbol{M}$ with elements $M_{dv}$ counting how many times document $d$ contains word $v$.\n",
    "\n",
    "Let the $V\\times K$ matrix of topic specific word distributions be\n",
    "$$\\boldsymbol\\Phi = [{\\boldsymbol\\varphi}_1, {\\boldsymbol\\varphi}_2, \\dots, {\\boldsymbol\\varphi}_K],$$\n",
    "and let the $K\\times D$ matrix of document specific topic distributions (topic mixture weights) be\n",
    "$$\\boldsymbol\\Theta = [{\\boldsymbol\\theta}_1, {\\boldsymbol\\theta}_2, \\dots, {\\boldsymbol\\theta}_D]$$\n",
    "\n",
    "Mathematicians like to use column vectors and form matrices by stacking the vectors into the columns of the matrices. In python, it is more convenient to work with row vectors and stack them into matrix rows. Therefore, everything in the code will be trasposed as compared to the equations. E.g., the $V\\times K$ matrix $\\boldsymbol\\Phi$ will be represented by numpy.array named **Phi** with shape (K, V). Similarly, $\\boldsymbol\\Theta$ will be represented by numpy.array named **Theta** with shape (D,K).\n",
    "\n",
    "## Handcrafting the LDA model\n",
    "### Handcrafting  $\\boldsymbol\\Phi$\n",
    "First, we handcraft the matrix $\\boldsymbol\\Phi$ containing topic specific word distributions. We hadcraft $\\boldsymbol\\Phi$ directly rather that sampling it from the Dirichlet prior as the generative process for Bayesian LDA would suggest. The Dirichlet prior will be still used later for LDA model training. We store the handcrafted matrix $\\boldsymbol\\Phi$ to the variable **Phi_gt**, where **_gt**, stays for \"ground truth\". We will generate our training using this matrix, and we hope to learn this matrix back (or some close to it) during the LDA model training. We consider only a toy example with $K=3$ topics (\"sports\", \"computers\", \"food\") and a vocabulary of only $V=6$ distinct words (stored in the variable **vocabulary**)."
   ]
  },
  {
   "cell_type": "code",
   "execution_count": 192,
   "metadata": {
    "scrolled": true
   },
   "outputs": [
    {
     "data": {
      "text/plain": "<Figure size 2000x400 with 3 Axes>",
      "image/png": "[encoded data removed]"
     },
     "metadata": {},
     "output_type": "display_data"
    }
   ],
   "source": [
    "vocabulary = ['tenis', 'surfing', 'software', 'apple', 'burger']  # TOPIC:\n",
    "Phi_gt = np.array([[0.7, 0.3, 0.0, 0.0, 0.0],  # sports\n",
    "                   [0.0, 0.2, 0.5, 0.3, 0.0],  # computers\n",
    "                   [0.0, 0.0, 0.0, 0.4, 0.6]])  # food\n",
    "plot_topic_distributions(Phi_gt, vocabulary)"
   ]
  },
  {
   "cell_type": "markdown",
   "metadata": {},
   "source": [
    "Note that the word \"surfing\" can likely occur for both topics \"sports\" and \"computers\". Similarly, word \"apple\" can likely occur for both topics \"food\" and \"computers\". Note also that we have given names to the topics in our example, but in real data, the topics in the training data and their number (the parameter $K$) are unknown.\n",
    "\n",
    "We used the function **plot_topic_distributions** to plot the word distributions for each topic. Each plot shows probabilities of words for one topic sorted by the the word probability. The function shows (at most) only the top_V=10 most likely words, which will be usefull when figuring out what the topics correspond to for real data.\n",
    "\n",
    "### Handcrafting  $\\boldsymbol\\Theta$\n",
    "Now, we will handcraft the matrix $\\boldsymbol\\Theta$ with topic distributions (or topic mixture weights) ${\\boldsymbol\\theta}_d$ one for each training document $d$. We will pretend that there are 4 tematically focused document collections in our training data with documents about:\n",
    "* sports\n",
    "* computers\n",
    "* food\n",
    "* food for sportsmen\n",
    "\n",
    "Each collection will contain **documents_per_collection**=20 training documents. In the following code, for each document $d$, the topic mixture weights ${\\boldsymbol\\theta}_d$ are sampled from a collection specific Dirichlet distribution (see the grayscale plots produced by the next cell). The parameters of these 4  Dirichlet distributions are given in the rows of the matrix **alpha4collections** in the code below."
   ]
  },
  {
   "cell_type": "code",
   "execution_count": 193,
   "outputs": [
    {
     "data": {
      "text/plain": "<Figure size 1400x300 with 4 Axes>",
      "image/png": "[encoded data removed]"
     },
     "metadata": {},
     "output_type": "display_data"
    }
   ],
   "source": [
    "                            # sports computers food  # Collection of documents about ...\n",
    "alpha4collections = np.array([[12, 1, 1],  # sports\n",
    "                              [2, 8, 1],  # computers\n",
    "                              [1, 1, 13],  # food\n",
    "                              [12, 2, 10]])  # food for sportsmen\n",
    "documents_per_collection = 20\n",
    "Theta_gt = []\n",
    "plt.figure(figsize=(14, 3))\n",
    "\n",
    "# For each collection\n",
    "for i, a in enumerate(alpha4collections):\n",
    "    plt.subplot(1, len(alpha4collections), i + 1)\n",
    "    plt.title(r'$\\alpha$ = (%.3f, %.3f, %.3f)' % tuple(a))\n",
    "\n",
    "    # Plot 2-simplex (a triangle) and add topic labels to the corners of the triangle where those topics have probability 1\n",
    "    plot_simplex(['Sports', 'Computers', 'Food'])\n",
    "\n",
    "    # Plot collection specific Dirichlet distribution (in grayscale)\n",
    "    plot_dirichlet(a)\n",
    "\n",
    "    # Sample topic mixture weights for all documents in one collection\n",
    "    thetas4collection = sps.dirichlet.rvs(a, documents_per_collection)\n",
    "\n",
    "    # Plot topic mixture weights as points in the simplex\n",
    "    plot_points_in_simplex(thetas4collection, c='b', ls='none', marker='+')\n",
    "    Theta_gt.append(thetas4collection)\n",
    "\n",
    "# Concatenate all topic weights from all collections into single matrix\n",
    "Theta_gt = np.concatenate(Theta_gt)\n",
    "\n",
    "# For each document, remember the label saying which colection it comes from\n",
    "collection_label = np.repeat(range(len(alpha4collections)), documents_per_collection)\n"
   ],
   "metadata": {
    "collapsed": false
   }
  },
  {
   "cell_type": "markdown",
   "metadata": {},
   "source": [
    "Each plot (triangle) produced by the code above is a 2-simplex corresponding to one of the collections. It shows its corresponding Dirichlet distribution (in grayscale). Each blue cross is a sample from that Dirichlet distribution representing the topic mixture weights ${\\boldsymbol\\theta}_d$ for one training document. We can see that, in the first collection (documents about sports), all documents have high weights for the topic \"sports\" and low weights for the other two topics. In contrast, in the last collection (documents about food for sportsmen), all documents have comparable high weights for the topics \"sports\" and \"food\" and low weight for the topic \"computers\".\n",
    "\n",
    "At the end of the code in the cell above, we concatenate all the document specific mixture weights ${\\boldsymbol\\theta}_d$ from all the collections into single matrix **Theta_gt** representing the \"ground truth\" matrix $\\boldsymbol\\Theta$. Just like in the case of **Phi_gt**, our task will be to recover **Theta_gt** (or something close to it) during the LDA model training.\n",
    "\n",
    "We also remember the collection label for each training document in the variable **collection_label**. One of your tasks will be to cluster the documents into collections and **collection_label** will be usefull to see whether you manage to recover the original \"ground truth\" document collections.\n",
    "\n",
    "### Plotting all handcrafted ${\\boldsymbol\\theta}_d$ into a single simplex\n",
    "\n",
    "In the code below, we plot all the mixture weights ${\\boldsymbol\\theta}_d$ for all training documents into sigle simplex. We also stop pretending that we know the the topic names. Instead, we use the most likely word from each topic specific distribution as the representative topic labels (i.e. the labels in the corners of the simplex). We also indicate the \"ground truth\" collection label by the color and marker of each point. This is how you will later plot the learned mixture weights ${\\boldsymbol\\theta}_d$ and how you will be able to indicate your clustering of the documents.\n"
   ]
  },
  {
   "cell_type": "code",
   "execution_count": 194,
   "outputs": [
    {
     "data": {
      "text/plain": "array([[0.94607172, 0.0091305 , 0.04479778],\n       [0.79716201, 0.07434776, 0.12849023],\n       [0.94546275, 0.0413272 , 0.01321004],\n       [0.92103198, 0.05996501, 0.01900302],\n       [0.98148846, 0.01520858, 0.00330296],\n       [0.90510272, 0.04151806, 0.05337922],\n       [0.77298009, 0.19041189, 0.03660802],\n       [0.81870972, 0.02801886, 0.15327142],\n       [0.83012786, 0.0874217 , 0.08245045],\n       [0.92094708, 0.01651295, 0.06253997],\n       [0.92474292, 0.0653119 , 0.00994518],\n       [0.81520509, 0.09390609, 0.09088883],\n       [0.93120189, 0.02789499, 0.04090312],\n       [0.93370085, 0.01386417, 0.05243498],\n       [0.7689728 , 0.14159168, 0.08943552],\n       [0.79921124, 0.06988602, 0.13090275],\n       [0.94868442, 0.01196195, 0.03935363],\n       [0.84577181, 0.08224432, 0.07198387],\n       [0.89541366, 0.10019041, 0.00439593],\n       [0.86443911, 0.05760278, 0.07795811],\n       [0.22094055, 0.71698383, 0.06207562],\n       [0.21325068, 0.7548337 , 0.03191562],\n       [0.0603757 , 0.86642381, 0.07320049],\n       [0.18754188, 0.77291876, 0.03953936],\n       [0.33048549, 0.56981613, 0.09969837],\n       [0.05971075, 0.79769287, 0.14259638],\n       [0.07909313, 0.80656106, 0.11434581],\n       [0.24103793, 0.55179967, 0.2071624 ],\n       [0.14939183, 0.63976145, 0.21084671],\n       [0.2518313 , 0.63977776, 0.10839093],\n       [0.09177731, 0.90289816, 0.00532453],\n       [0.26049029, 0.73788774, 0.00162197],\n       [0.17136332, 0.71187178, 0.11676491],\n       [0.4932183 , 0.49448766, 0.01229404],\n       [0.16492189, 0.75617891, 0.07889919],\n       [0.1510126 , 0.68998457, 0.15900283],\n       [0.10467041, 0.87223805, 0.02309154],\n       [0.29578886, 0.54340073, 0.16081041],\n       [0.24904113, 0.67955143, 0.07140745],\n       [0.09053434, 0.772342  , 0.13712367],\n       [0.04424255, 0.01338153, 0.94237592],\n       [0.01419714, 0.06409601, 0.92170685],\n       [0.02577455, 0.02270463, 0.95152082],\n       [0.09109855, 0.03675857, 0.87214288],\n       [0.03847129, 0.0018751 , 0.95965361],\n       [0.00885699, 0.07419368, 0.91694933],\n       [0.06158332, 0.06874773, 0.86966895],\n       [0.06706459, 0.03351176, 0.89942364],\n       [0.02343716, 0.03586377, 0.94069907],\n       [0.01075955, 0.0071109 , 0.98212955],\n       [0.0868526 , 0.2472266 , 0.6659208 ],\n       [0.03266377, 0.02609763, 0.94123861],\n       [0.00773266, 0.25424602, 0.73802132],\n       [0.04588321, 0.0261545 , 0.92796229],\n       [0.01462466, 0.11067095, 0.87470439],\n       [0.1063974 , 0.04646665, 0.84713595],\n       [0.01388604, 0.00199158, 0.98412237],\n       [0.110372  , 0.13953713, 0.75009088],\n       [0.04056863, 0.08363874, 0.87579263],\n       [0.05851235, 0.0400492 , 0.90143845],\n       [0.42973013, 0.09414127, 0.4761286 ],\n       [0.41026628, 0.05611816, 0.53361556],\n       [0.58551592, 0.04585064, 0.36863344],\n       [0.50640458, 0.06568746, 0.42790796],\n       [0.36496425, 0.05934415, 0.5756916 ],\n       [0.61497475, 0.0959735 , 0.28905175],\n       [0.26570912, 0.0803704 , 0.65392048],\n       [0.43069296, 0.14406489, 0.42524215],\n       [0.66587047, 0.03226505, 0.30186447],\n       [0.66009229, 0.11354306, 0.22636465],\n       [0.59011066, 0.12801177, 0.28187757],\n       [0.45180476, 0.0689897 , 0.47920554],\n       [0.42871561, 0.08354725, 0.48773714],\n       [0.3401114 , 0.26587492, 0.39401368],\n       [0.60109076, 0.02490751, 0.37400174],\n       [0.32083103, 0.18620193, 0.49296703],\n       [0.48187619, 0.10205652, 0.41606729],\n       [0.50446435, 0.11022729, 0.38530836],\n       [0.48590195, 0.04467504, 0.46942301],\n       [0.26898332, 0.1622386 , 0.56877808]])"
     },
     "execution_count": 194,
     "metadata": {},
     "output_type": "execute_result"
    }
   ],
   "source": [
    "Theta_gt\n"
   ],
   "metadata": {
    "collapsed": false
   }
  },
  {
   "cell_type": "code",
   "execution_count": 195,
   "metadata": {},
   "outputs": [
    {
     "data": {
      "text/plain": "<Figure size 640x480 with 1 Axes>",
      "image/png": "[encoded data removed]"
     },
     "metadata": {},
     "output_type": "display_data"
    }
   ],
   "source": [
    "plot_simplex([vocabulary[np.argmax(p)] for p in Phi_gt])\n",
    "markers = ['+', 'x', '^', '*']\n",
    "colors = ['r', 'b', 'g', 'm']\n",
    "for i, t in enumerate(Theta_gt):\n",
    "    plot_points_in_simplex(t, c=colors[collection_label[i]], ls='none', marker=markers[collection_label[i]])"
   ]
  },
  {
   "cell_type": "markdown",
   "metadata": {},
   "source": [
    "### Sampling training data\n",
    "Once we have the matrices $\\boldsymbol\\Phi$ and $\\boldsymbol\\Theta$, we can obtain the word distribution specific to document $d$ as $\\boldsymbol\\Phi {\\boldsymbol\\theta}_d$. Or more efficiently, we can obtain matrix of the distribution for all the documents as $\\boldsymbol\\Phi\\boldsymbol\\Theta$. Finaly, for document $d$, we can sample the vector of word counts (i.e a row of the word count matrix $\\boldsymbol{M}$) from the distribution $\\operatorname{Multinomial(\\boldsymbol\\Phi{\\boldsymbol\\theta}_d,N_d)}$. For simplicity, in the code below, we assume that each training document contains the same number of $N_d=N=100$ words. The training word count matrix is stored in variable **M**."
   ]
  },
  {
   "cell_type": "code",
   "execution_count": 196,
   "outputs": [
    {
     "data": {
      "text/plain": "array([[0.7, 0.3, 0. , 0. , 0. ],\n       [0. , 0.2, 0.5, 0.3, 0. ],\n       [0. , 0. , 0. , 0.4, 0.6]])"
     },
     "execution_count": 196,
     "metadata": {},
     "output_type": "execute_result"
    }
   ],
   "source": [
    "Phi_gt\n"
   ],
   "metadata": {
    "collapsed": false
   }
  },
  {
   "cell_type": "code",
   "execution_count": 197,
   "outputs": [
    {
     "data": {
      "text/plain": "array([[0.94607172, 0.0091305 , 0.04479778],\n       [0.79716201, 0.07434776, 0.12849023],\n       [0.94546275, 0.0413272 , 0.01321004],\n       [0.92103198, 0.05996501, 0.01900302],\n       [0.98148846, 0.01520858, 0.00330296],\n       [0.90510272, 0.04151806, 0.05337922],\n       [0.77298009, 0.19041189, 0.03660802],\n       [0.81870972, 0.02801886, 0.15327142],\n       [0.83012786, 0.0874217 , 0.08245045],\n       [0.92094708, 0.01651295, 0.06253997],\n       [0.92474292, 0.0653119 , 0.00994518],\n       [0.81520509, 0.09390609, 0.09088883],\n       [0.93120189, 0.02789499, 0.04090312],\n       [0.93370085, 0.01386417, 0.05243498],\n       [0.7689728 , 0.14159168, 0.08943552],\n       [0.79921124, 0.06988602, 0.13090275],\n       [0.94868442, 0.01196195, 0.03935363],\n       [0.84577181, 0.08224432, 0.07198387],\n       [0.89541366, 0.10019041, 0.00439593],\n       [0.86443911, 0.05760278, 0.07795811],\n       [0.22094055, 0.71698383, 0.06207562],\n       [0.21325068, 0.7548337 , 0.03191562],\n       [0.0603757 , 0.86642381, 0.07320049],\n       [0.18754188, 0.77291876, 0.03953936],\n       [0.33048549, 0.56981613, 0.09969837],\n       [0.05971075, 0.79769287, 0.14259638],\n       [0.07909313, 0.80656106, 0.11434581],\n       [0.24103793, 0.55179967, 0.2071624 ],\n       [0.14939183, 0.63976145, 0.21084671],\n       [0.2518313 , 0.63977776, 0.10839093],\n       [0.09177731, 0.90289816, 0.00532453],\n       [0.26049029, 0.73788774, 0.00162197],\n       [0.17136332, 0.71187178, 0.11676491],\n       [0.4932183 , 0.49448766, 0.01229404],\n       [0.16492189, 0.75617891, 0.07889919],\n       [0.1510126 , 0.68998457, 0.15900283],\n       [0.10467041, 0.87223805, 0.02309154],\n       [0.29578886, 0.54340073, 0.16081041],\n       [0.24904113, 0.67955143, 0.07140745],\n       [0.09053434, 0.772342  , 0.13712367],\n       [0.04424255, 0.01338153, 0.94237592],\n       [0.01419714, 0.06409601, 0.92170685],\n       [0.02577455, 0.02270463, 0.95152082],\n       [0.09109855, 0.03675857, 0.87214288],\n       [0.03847129, 0.0018751 , 0.95965361],\n       [0.00885699, 0.07419368, 0.91694933],\n       [0.06158332, 0.06874773, 0.86966895],\n       [0.06706459, 0.03351176, 0.89942364],\n       [0.02343716, 0.03586377, 0.94069907],\n       [0.01075955, 0.0071109 , 0.98212955],\n       [0.0868526 , 0.2472266 , 0.6659208 ],\n       [0.03266377, 0.02609763, 0.94123861],\n       [0.00773266, 0.25424602, 0.73802132],\n       [0.04588321, 0.0261545 , 0.92796229],\n       [0.01462466, 0.11067095, 0.87470439],\n       [0.1063974 , 0.04646665, 0.84713595],\n       [0.01388604, 0.00199158, 0.98412237],\n       [0.110372  , 0.13953713, 0.75009088],\n       [0.04056863, 0.08363874, 0.87579263],\n       [0.05851235, 0.0400492 , 0.90143845],\n       [0.42973013, 0.09414127, 0.4761286 ],\n       [0.41026628, 0.05611816, 0.53361556],\n       [0.58551592, 0.04585064, 0.36863344],\n       [0.50640458, 0.06568746, 0.42790796],\n       [0.36496425, 0.05934415, 0.5756916 ],\n       [0.61497475, 0.0959735 , 0.28905175],\n       [0.26570912, 0.0803704 , 0.65392048],\n       [0.43069296, 0.14406489, 0.42524215],\n       [0.66587047, 0.03226505, 0.30186447],\n       [0.66009229, 0.11354306, 0.22636465],\n       [0.59011066, 0.12801177, 0.28187757],\n       [0.45180476, 0.0689897 , 0.47920554],\n       [0.42871561, 0.08354725, 0.48773714],\n       [0.3401114 , 0.26587492, 0.39401368],\n       [0.60109076, 0.02490751, 0.37400174],\n       [0.32083103, 0.18620193, 0.49296703],\n       [0.48187619, 0.10205652, 0.41606729],\n       [0.50446435, 0.11022729, 0.38530836],\n       [0.48590195, 0.04467504, 0.46942301],\n       [0.26898332, 0.1622386 , 0.56877808]])"
     },
     "execution_count": 197,
     "metadata": {},
     "output_type": "execute_result"
    }
   ],
   "source": [
    "Theta_gt\n"
   ],
   "metadata": {
    "collapsed": false
   }
  },
  {
   "cell_type": "code",
   "execution_count": 198,
   "metadata": {
    "scrolled": false
   },
   "outputs": [
    {
     "name": "stdout",
     "output_type": "stream",
     "text": [
      "(80, 5)\n",
      "Word count matrix for first 10 training documents\n",
      " [[66 24  2  3  5]\n",
      " [59 25  3  6  7]\n",
      " [72 26  1  0  1]\n",
      " [61 31  4  4  0]\n",
      " [63 37  0  0  0]\n",
      " [54 33  3  3  7]\n",
      " [57 25  9  9  0]\n",
      " [61 24  2  6  7]\n",
      " [64 20  6  6  4]\n",
      " [61 31  1  2  5]]\n"
     ]
    }
   ],
   "source": [
    "PhiTheta = Theta_gt @ Phi_gt\n",
    "N = 100\n",
    "M = np.vstack([sps.multinomial.rvs(N, dd) for dd in PhiTheta])\n",
    "print(M.shape)\n",
    "print(\"Word count matrix for first 10 training documents\\n\", M[:10])\n"
   ]
  },
  {
   "cell_type": "markdown",
   "metadata": {},
   "source": [
    "# Training the LDA model using Gibbs Sampling inference\n",
    "## Summary of the inference algorithm\n",
    "1. Initialize matrices (distributions) $\\boldsymbol\\Phi$ and $\\boldsymbol\\Theta$ (e.g. randomly or to constant values).\n",
    "2. For each $d=1, \\dots, D$ and $v=1, \\dots, V$, evaluate the probabilities of topics $\\boldsymbol{\\pi}_{dv}=[\\pi_{dv1},\\pi_{dv2},\\dots,\\pi_{dvK}]^T$ using current values of $\\boldsymbol\\Phi$ and $\\boldsymbol\\Theta$, where \n",
    "$$\\pi_{dvk} = \\frac{\\varphi_{kv} \\theta_{dk}}{\\sum_{k'=1}^K \\varphi_{k'v} \\theta_{dk'}}$$\n",
    "3. Sample vectors\n",
    "$$\\boldsymbol{C}_{dv} \\sim \\operatorname{Multinomial}(\\boldsymbol{\\pi}_{dv},M_{dv})$$\n",
    "where the elements $C_{dv}^k$ can be seen as count of words $v$ sampled from topic $k$ in document $d$.\n",
    "4. For each $d=1, \\dots, D$, sample\n",
    "$$\\boldsymbol{\\theta}_d \\sim Dir(\\boldsymbol{\\alpha}_d)$$\n",
    "where the elements of $\\boldsymbol{\\alpha}_d$ are\n",
    "$$\\alpha_{dk} = \\alpha_{0k} + \\sum_{v=1}^V C_{dv}^k$$\n",
    "and $\\alpha_{0k}$ are the elements of the prior $\\boldsymbol{\\alpha}_0$\n",
    "5. For each $k=1, \\dots, K$, sample\n",
    "$$\\boldsymbol{\\varphi}_k \\sim Dir(\\boldsymbol{\\beta}_k)$$\n",
    "where the elements of $\\boldsymbol{\\beta}_k$ are\n",
    "$$\\beta_{kv} = \\beta_{0v} + \\sum_{d=1}^D C_{dv}^k$$\n",
    "and $\\beta_{0v}$ are the elements of the prior $\\boldsymbol{\\beta}_0$\n",
    "6. Go to step 2. and repeat for a desired number of iterations\n",
    "\n",
    "Note that $C_{dv}^k$ can be stored as elements of a 3D matrix and $\\sum_{d=1}^D C_{dv}^k$ can be easily evaluated for all $v$ and $k$ by summing the matrix over the $d$ dimension. Simmilarly, we can sum the matrix over the $v$ dimension to get all $\\sum_{v=1}^V C_{dv}^k$.\n",
    "\n",
    "To monitor the progress, we can evaluate $\\ln P(\\boldsymbol{W}, \\boldsymbol{Z}, \\boldsymbol{\\Theta}, \\boldsymbol{\\Phi})$ in every iteration (See slide 8. \"Joint probability using the counts\" in the [BAYa class slides](http://www.fit.vutbr.cz/study/courses/BAYa/public/prednasky/4.5-LatentDirichletAllocation.pdf))."
   ]
  },
  {
   "cell_type": "markdown",
   "metadata": {},
   "source": [
    "## Tasks and questions:\n",
    "\n",
    "1. Implement Gibbs Sampling inference for training the Bayesian Latent Dirichlet Allocation model described above. \n",
    " * Run sufficient number of GS iterations to obtain matrices $\\boldsymbol{\\Theta}$ and $\\boldsymbol{\\Phi}$ that would be good samples from the posterior distribution $P(\\boldsymbol{Z}, \\boldsymbol{\\Theta}, \\boldsymbol{\\Phi}| \\boldsymbol{W})$\n",
    " * Store $\\ln P(\\boldsymbol{W}, \\boldsymbol{Z}, \\boldsymbol{\\Theta}, \\boldsymbol{\\Phi})$ in every iteration to monitor the how the training progresses.\n",
    "\n",
    " The following field comes with the definition of variables that you will use in your implementation. Namely, **alpha0** are the  parameters of prior $p({\\boldsymbol\\theta}_d) = \\operatorname{Dir}(\\boldsymbol{\\alpha}_0)$ and **beta0** the parameters of prior ${p(\\boldsymbol\\varphi}_k) = \\operatorname{Dir}(\\boldsymbol{\\beta}_0)$. For simplicity we will use the flat non-informative prior (i.e. $\\boldsymbol{\\alpha}_0$ and $\\boldsymbol{\\beta}_0$ are vectors of ones). In variables **Theta** and **Phi**, your code will store the samples of $\\boldsymbol{\\Theta}$ and $\\boldsymbol{\\Phi}$. Start the GS iterations from the initial values of $\\boldsymbol{\\Theta}$ and $\\boldsymbol{\\Phi}$ provided in the code.\n",
    "\n",
    " Note that for the LDA model training one needs to choose the hyperparmeter $K$ which is the assumed number of topics. We choose $K=3$ which will allow us to plot each sampled $\\boldsymbol{\\theta}_d$ to the simplex. However, we are somewhat cheating here, as we know that this is the ground truth number of topics."
   ]
  },
  {
   "cell_type": "code",
   "execution_count": 199,
   "metadata": {},
   "outputs": [],
   "source": [
    "# Make use of the following variables\n",
    "\n",
    "D, V = M.shape  # number of training documents D and size of vocabulary V\n",
    "K = 3  # number of topics\n",
    "alpha0 = np.ones(K, dtype='float')  # Dir; Docs-Topics; Parameters of prior for Theta\n",
    "beta0 = np.ones(V, dtype='float')  # Dir; Words-Topics; Parameters of prior for Phi\n",
    "Theta = np.ones(\n",
    "    (D, K)) / K  # Multinomial; Initial values for Theta; store new Theta sampled in each iteration to this variable\n",
    "Phi = np.ones(\n",
    "    (K, V)) / V  # Multinomial; Initial values for Phi; store new Phi sampled in each iteration to this variable\n"
   ]
  },
  {
   "cell_type": "code",
   "execution_count": 200,
   "outputs": [
    {
     "name": "stdout",
     "output_type": "stream",
     "text": [
      "(3,)\n",
      "(5,)\n"
     ]
    }
   ],
   "source": [
    "print(alpha0.shape)\n",
    "print(beta0.shape)\n"
   ],
   "metadata": {
    "collapsed": false
   }
  },
  {
   "cell_type": "code",
   "execution_count": 201,
   "outputs": [
    {
     "name": "stdout",
     "output_type": "stream",
     "text": [
      "Requirement already satisfied: tqdm in ./venv3.10/lib/python3.10/site-packages (4.64.1)\r\n"
     ]
    }
   ],
   "source": [
    "\n",
    "!pip install tqdm\n"
   ],
   "metadata": {
    "collapsed": false
   }
  },
  {
   "cell_type": "code",
   "execution_count": 202,
   "outputs": [
    {
     "name": "stdout",
     "output_type": "stream",
     "text": [
      "80\n",
      "5\n",
      "3\n"
     ]
    }
   ],
   "source": [
    "print(D)\n",
    "print(V)\n",
    "print(K)\n"
   ],
   "metadata": {
    "collapsed": false
   }
  },
  {
   "cell_type": "code",
   "execution_count": 203,
   "outputs": [],
   "source": [
    "D=80\n",
    "V=5\n",
    "K=3\n",
    "\n",
    "pi = np.zeros((D, V, K))\n",
    "C = np.zeros((D, V, K))\n",
    "\n",
    "for d in range(D):  # each document\n",
    "    for v in range(V):  # each word\n",
    "        # 2.\n",
    "        numerator = Phi[:, v] * Theta[d, :]\n",
    "        denominator = np.sum(numerator) + 1e-10\n",
    "        pi[d, v, :] = numerator / denominator\n",
    "\n",
    "        # 3.\n",
    "        C[d, v, :] = sps.multinomial.rvs(p=pi[d, v], n=M[d, v])\n"
   ],
   "metadata": {
    "collapsed": false
   }
  },
  {
   "cell_type": "code",
   "execution_count": 204,
   "outputs": [
    {
     "name": "stdout",
     "output_type": "stream",
     "text": [
      "[[[0.33333333 0.33333333 0.33333333]\n",
      "  [0.33333333 0.33333333 0.33333333]\n",
      "  [0.33333333 0.33333333 0.33333333]\n",
      "  [0.33333333 0.33333333 0.33333333]\n",
      "  [0.33333333 0.33333333 0.33333333]]\n",
      "\n",
      " [[0.33333333 0.33333333 0.33333333]\n",
      "  [0.33333333 0.33333333 0.33333333]\n",
      "  [0.33333333 0.33333333 0.33333333]\n",
      "  [0.33333333 0.33333333 0.33333333]\n",
      "  [0.33333333 0.33333333 0.33333333]]\n",
      "\n",
      " [[0.33333333 0.33333333 0.33333333]\n",
      "  [0.33333333 0.33333333 0.33333333]\n",
      "  [0.33333333 0.33333333 0.33333333]\n",
      "  [0.33333333 0.33333333 0.33333333]\n",
      "  [0.33333333 0.33333333 0.33333333]]\n",
      "\n",
      " ...\n",
      "\n",
      " [[0.33333333 0.33333333 0.33333333]\n",
      "  [0.33333333 0.33333333 0.33333333]\n",
      "  [0.33333333 0.33333333 0.33333333]\n",
      "  [0.33333333 0.33333333 0.33333333]\n",
      "  [0.33333333 0.33333333 0.33333333]]\n",
      "\n",
      " [[0.33333333 0.33333333 0.33333333]\n",
      "  [0.33333333 0.33333333 0.33333333]\n",
      "  [0.33333333 0.33333333 0.33333333]\n",
      "  [0.33333333 0.33333333 0.33333333]\n",
      "  [0.33333333 0.33333333 0.33333333]]\n",
      "\n",
      " [[0.33333333 0.33333333 0.33333333]\n",
      "  [0.33333333 0.33333333 0.33333333]\n",
      "  [0.33333333 0.33333333 0.33333333]\n",
      "  [0.33333333 0.33333333 0.33333333]\n",
      "  [0.33333333 0.33333333 0.33333333]]]\n"
     ]
    }
   ],
   "source": [
    "\n",
    "print(pi)\n"
   ],
   "metadata": {
    "collapsed": false
   }
  },
  {
   "cell_type": "code",
   "execution_count": 205,
   "outputs": [
    {
     "name": "stdout",
     "output_type": "stream",
     "text": [
      "[0.06666667 0.06666667 0.06666667]\n"
     ]
    },
    {
     "ename": "ValueError",
     "evalue": "operands could not be broadcast together with shapes (3,5) (80,3) ",
     "output_type": "error",
     "traceback": [
      "\u001B[0;31m---------------------------------------------------------------------------\u001B[0m",
      "\u001B[0;31mValueError\u001B[0m                                Traceback (most recent call last)",
      "Cell \u001B[0;32mIn[205], line 4\u001B[0m\n\u001B[1;32m      1\u001B[0m numerator \u001B[38;5;241m=\u001B[39m Phi[:, \u001B[38;5;241m0\u001B[39m] \u001B[38;5;241m*\u001B[39m Theta[\u001B[38;5;241m0\u001B[39m, :]\n\u001B[1;32m      2\u001B[0m \u001B[38;5;28mprint\u001B[39m(numerator)\n\u001B[0;32m----> 4\u001B[0m numerator2 \u001B[38;5;241m=\u001B[39m \u001B[43mPhi\u001B[49m\u001B[43m \u001B[49m\u001B[38;5;241;43m*\u001B[39;49m\u001B[43m \u001B[49m\u001B[43mTheta\u001B[49m\n\u001B[1;32m      5\u001B[0m \u001B[38;5;28mprint\u001B[39m(numerator2[\u001B[38;5;241m0\u001B[39m])\n",
      "\u001B[0;31mValueError\u001B[0m: operands could not be broadcast together with shapes (3,5) (80,3) "
     ]
    }
   ],
   "source": [
    "\n",
    "numerator = Phi[:, 0] * Theta[0, :]\n",
    "print(numerator)\n",
    "\n",
    "numerator2 = Phi * Theta\n",
    "print(numerator2[0])\n",
    "\n"
   ],
   "metadata": {
    "collapsed": false
   }
  },
  {
   "cell_type": "code",
   "execution_count": 212,
   "outputs": [
    {
     "name": "stdout",
     "output_type": "stream",
     "text": [
      "[[[1 1 1]\n",
      "  [2 2 2]\n",
      "  [3 3 3]]]\n",
      "[[[1 1 1]\n",
      "  [2 2 2]\n",
      "  [3 3 3]]]\n",
      "[[[1 1 1]\n",
      "  [4 4 4]\n",
      "  [9 9 9]]]\n",
      "[[[ 6  6  6]\n",
      "  [12 12 12]\n",
      "  [18 18 18]]]\n"
     ]
    }
   ],
   "source": [
    "\n",
    "x1=np.array([[[1,1,1],[2,2,2],[3,3,3]]])\n",
    "x2=np.array([[[1,1,1],[2,2,2],[3,3,3]]])\n",
    "print(x1)\n",
    "print(x2)\n",
    "print(x1*x2)\n",
    "print(x1@x2)\n"
   ],
   "metadata": {
    "collapsed": false
   }
  },
  {
   "cell_type": "code",
   "execution_count": 213,
   "outputs": [
    {
     "name": "stdout",
     "output_type": "stream",
     "text": [
      "(3, 5)\n",
      "(80, 3)\n",
      "(3, 1, 5)\n",
      "(80, 1, 3)\n"
     ]
    }
   ],
   "source": [
    "\n",
    "print(Phi.shape)\n",
    "print(Theta.shape)\n",
    "print(Phi[:,np.newaxis,:].shape)\n",
    "print(Theta[:,np.newaxis,:].shape)\n"
   ],
   "metadata": {
    "collapsed": false
   }
  },
  {
   "cell_type": "code",
   "execution_count": 206,
   "outputs": [
    {
     "ename": "ValueError",
     "evalue": "operands could not be broadcast together with shapes (3,1,5) (80,1,3) ",
     "output_type": "error",
     "traceback": [
      "\u001B[0;31m---------------------------------------------------------------------------\u001B[0m",
      "\u001B[0;31mValueError\u001B[0m                                Traceback (most recent call last)",
      "Cell \u001B[0;32mIn[206], line 5\u001B[0m\n\u001B[1;32m      2\u001B[0m C \u001B[38;5;241m=\u001B[39m np\u001B[38;5;241m.\u001B[39mzeros((D, V, K))\n\u001B[1;32m      4\u001B[0m \u001B[38;5;66;03m# Compute pi\u001B[39;00m\n\u001B[0;32m----> 5\u001B[0m numerator \u001B[38;5;241m=\u001B[39m \u001B[43mPhi\u001B[49m\u001B[43m[\u001B[49m\u001B[43m:\u001B[49m\u001B[43m,\u001B[49m\u001B[43m \u001B[49m\u001B[43mnp\u001B[49m\u001B[38;5;241;43m.\u001B[39;49m\u001B[43mnewaxis\u001B[49m\u001B[43m,\u001B[49m\u001B[43m \u001B[49m\u001B[43m:\u001B[49m\u001B[43m]\u001B[49m\u001B[43m \u001B[49m\u001B[38;5;241;43m*\u001B[39;49m\u001B[43m \u001B[49m\u001B[43mTheta\u001B[49m\u001B[43m[\u001B[49m\u001B[43m:\u001B[49m\u001B[43m,\u001B[49m\u001B[43m \u001B[49m\u001B[43mnp\u001B[49m\u001B[38;5;241;43m.\u001B[39;49m\u001B[43mnewaxis\u001B[49m\u001B[43m,\u001B[49m\u001B[43m \u001B[49m\u001B[43m:\u001B[49m\u001B[43m]\u001B[49m\n\u001B[1;32m      6\u001B[0m denominator \u001B[38;5;241m=\u001B[39m np\u001B[38;5;241m.\u001B[39msum(numerator, axis\u001B[38;5;241m=\u001B[39m\u001B[38;5;241m0\u001B[39m) \u001B[38;5;241m+\u001B[39m \u001B[38;5;241m1e-10\u001B[39m\n\u001B[1;32m      7\u001B[0m pi2 \u001B[38;5;241m=\u001B[39m numerator \u001B[38;5;241m/\u001B[39m denominator\n",
      "\u001B[0;31mValueError\u001B[0m: operands could not be broadcast together with shapes (3,1,5) (80,1,3) "
     ]
    }
   ],
   "source": [
    "\n",
    "pi2 = np.zeros((D, V, K))\n",
    "C = np.zeros((D, V, K))\n",
    "\n",
    "# Compute pi\n",
    "numerator = Phi[:, np.newaxis, :] * Theta[:, np.newaxis, :]\n",
    "denominator = np.sum(numerator, axis=0) + 1e-10\n",
    "pi2 = numerator / denominator\n",
    "\n",
    "# Generate multinomial samples for C\n",
    "# C = sps.multinomial.rvs(p=pi, n=M[:, :, np.newaxis])\n"
   ],
   "metadata": {
    "collapsed": false
   }
  },
  {
   "cell_type": "code",
   "execution_count": 207,
   "outputs": [
    {
     "name": "stdout",
     "output_type": "stream",
     "text": [
      "[[[0. 0. 0.]\n",
      "  [0. 0. 0.]\n",
      "  [0. 0. 0.]\n",
      "  [0. 0. 0.]\n",
      "  [0. 0. 0.]]\n",
      "\n",
      " [[0. 0. 0.]\n",
      "  [0. 0. 0.]\n",
      "  [0. 0. 0.]\n",
      "  [0. 0. 0.]\n",
      "  [0. 0. 0.]]\n",
      "\n",
      " [[0. 0. 0.]\n",
      "  [0. 0. 0.]\n",
      "  [0. 0. 0.]\n",
      "  [0. 0. 0.]\n",
      "  [0. 0. 0.]]\n",
      "\n",
      " ...\n",
      "\n",
      " [[0. 0. 0.]\n",
      "  [0. 0. 0.]\n",
      "  [0. 0. 0.]\n",
      "  [0. 0. 0.]\n",
      "  [0. 0. 0.]]\n",
      "\n",
      " [[0. 0. 0.]\n",
      "  [0. 0. 0.]\n",
      "  [0. 0. 0.]\n",
      "  [0. 0. 0.]\n",
      "  [0. 0. 0.]]\n",
      "\n",
      " [[0. 0. 0.]\n",
      "  [0. 0. 0.]\n",
      "  [0. 0. 0.]\n",
      "  [0. 0. 0.]\n",
      "  [0. 0. 0.]]]\n"
     ]
    }
   ],
   "source": [
    "\n",
    "print(pi2)\n"
   ],
   "metadata": {
    "collapsed": false
   }
  },
  {
   "cell_type": "code",
   "execution_count": null,
   "outputs": [],
   "source": [
    "#Your code for Gibbs sampling inference\n",
    "\n",
    "import tqdm\n",
    "\n",
    "\n",
    "def train_lda_GS(num_iterations: int = 1,\n",
    "                 _Theta: np.array = Theta.copy(),\n",
    "                 _Phi: np.array = Phi.copy(),\n",
    "                 _D=D,\n",
    "                 _V=V,\n",
    "                 _M=M):\n",
    "    pi = np.zeros((_D, _V, K))\n",
    "    C = np.zeros((_D, _V, K))\n",
    "    log_probabilities = []\n",
    "\n",
    "    for _ in tqdm.tqdm(range(num_iterations)):\n",
    "        for d in range(_D):  # each document\n",
    "            for v in range(_V):  # each word\n",
    "                # 2.\n",
    "                numerator = _Phi[:, v] * _Theta[d, :]\n",
    "                denominator = np.sum(numerator) + 1e-10\n",
    "                pi[d, v, :] = numerator / denominator\n",
    "\n",
    "                # 3.\n",
    "                C[d, v, :] = sps.multinomial.rvs(p=pi[d, v], n=_M[d, v])\n",
    "\n",
    "        # 4.\n",
    "        alpha = np.zeros((_D, K))\n",
    "        for d in range(_D):\n",
    "            alpha[d] = alpha0 + C.sum(axis=1)[d]\n",
    "            _Theta[d, :] = np.random.dirichlet(alpha[d])\n",
    "\n",
    "        # 5.\n",
    "        beta = np.zeros((K, V))\n",
    "        for k in range(K):\n",
    "            beta[k] = beta0 + C.sum(axis=0)[:, k]\n",
    "            _Phi[k, :] = np.random.dirichlet(beta[k])\n",
    "\n",
    "        C += 1e-10\n",
    "        alpha += 1e-10\n",
    "        beta += 1e-10\n",
    "        _Phi = _Phi.astype(np.float64) + 1e-5\n",
    "        _Theta = _Theta.astype(np.float64) + 1e-5\n",
    "\n",
    "        a1 = (np.log(_Phi) * (beta - 1)).sum()\n",
    "        a2 = (np.log(_Theta) * (alpha - 1)).sum()\n",
    "        a3 = (np.log(_Phi) * C.sum(axis=0).T).sum()\n",
    "        a4 = (np.log(_Theta) * C.sum(axis=1)).sum()\n",
    "        log_probabilities.append(a1 + a2 + a3 + a4)\n",
    "\n",
    "    return _Theta, _Phi, C, log_probabilities\n",
    "\n",
    "\n",
    "Theta_new, Phi_new, Counts, log_probabilities = train_lda_GS(num_iterations=50)\n"
   ],
   "metadata": {
    "collapsed": false
   }
  },
  {
   "cell_type": "markdown",
   "metadata": {},
   "source": [
    "2. Plot the evolution of the joint probablity $\\ln P(\\boldsymbol{W}, \\boldsymbol{Z}, \\boldsymbol{\\Theta}, \\boldsymbol{\\Phi})$ over the iterations to monitor how the training progresses. \n",
    " * How can we say from this plot that the burn-in phase is over?\n",
    "     * It is when the log joint Probability stabilize and not doing big moves. In the graph below it is somewhere around 18th iteration.\n",
    " * How does $\\ln P(\\boldsymbol{W}, \\boldsymbol{Z}, \\boldsymbol{\\Theta}, \\boldsymbol{\\Phi})$ behave before and after the burn-in phase and why?\n",
    "    * The length of the burn-in depends on model and data. Before burn-in state model is training itself and try to find the best solution, after burn-it state it stabilize because the model is already trained.\n"
   ]
  },
  {
   "cell_type": "code",
   "execution_count": null,
   "metadata": {},
   "outputs": [],
   "source": [
    "#Your code goes here\n",
    "\n",
    "fig = plt.figure()\n",
    "ax = fig.add_subplot(1, 1, 1)\n",
    "ax.plot(log_probabilities, color='tab:blue')\n",
    "ax.set_title('line plot with data points')\n",
    "plt.show()\n"
   ]
  },
  {
   "cell_type": "markdown",
   "metadata": {},
   "source": [
    "3. Use the function plot_topic_distributions to plot the sampled topic specific word ditributions $\\boldsymbol{\\Phi}$. Plot also the ground truth version of it. \n",
    " * Is the $\\boldsymbol{\\Phi}$ sampled in the last iteration close to the ground truth? Would they get closer and closer with every iteration of the GS algorithm? Explain why.\n",
    "    * No, because after burn-in state the probabilities are already trained in th LDA model.\n",
    " * The $\\boldsymbol{\\Phi}$ from the last GS iteration is a sample from the posterior distribution. How could we get a better estimate of the matrix $\\boldsymbol{\\Phi}$ still using the GS inference?\n",
    "    * TODO"
   ]
  },
  {
   "cell_type": "code",
   "execution_count": null,
   "outputs": [],
   "source": [
    "print(Phi_new)\n",
    "np.argmax(Phi_new, axis=1)"
   ],
   "metadata": {
    "collapsed": false
   }
  },
  {
   "cell_type": "code",
   "execution_count": null,
   "metadata": {},
   "outputs": [],
   "source": [
    "#Your code goes here\n",
    "ground_truth_idxs = np.argmax(Phi_new, axis=1)\n",
    "Phi_new_ground_truth = np.zeros(Phi_new.shape)\n",
    "Phi_new_ground_truth[np.arange(Phi_new.shape[0]), ground_truth_idxs] = 1\n",
    "print(ground_truth_idxs)\n",
    "\n",
    "plot_topic_distributions(Phi_new, vocabulary)\n",
    "plot_topic_distributions(Phi_new_ground_truth, vocabulary)\n"
   ]
  },
  {
   "cell_type": "markdown",
   "metadata": {},
   "source": [
    "4. The final sampled topic mixture weights $\\boldsymbol{\\theta}_d$ can be seen as low dimensional representations of each document informing about their topic. Cluster the trainigg documents into 4 clusters, where each of the clusters should ideally correspond to one of the ground truth document collections. \n",
    " * You can use for example sklearn.cluster.Agglomerative for such task.\n",
    " * Plot the documents into the simplex, as done in the section \"Plotting all training ${\\boldsymbol\\theta}_d$ into a single simplex\". For each document, indicate the label assigned by the clustering by the marker and the ground truth collection label by the color.\n",
    " * Label the corners of the simplex with the most likely word from the corresponding learned topic specific distribution $\\boldsymbol{\\varphi}_k$, as done in the mentioned reference plot. \n",
    " * Comment on how well do the obtained clusters match the ground truth collection labels.\n",
    "    * All fits pretty well, but software doesn't.\n",
    " * Here we are (again) rather cheating because we know the ground truth number of clusters/collections. How would you choose the number of clusters if you didn't know it?\n"
   ]
  },
  {
   "cell_type": "code",
   "execution_count": null,
   "outputs": [],
   "source": [
    "!pip install scikit-learn"
   ],
   "metadata": {
    "collapsed": false
   }
  },
  {
   "cell_type": "code",
   "execution_count": null,
   "metadata": {},
   "outputs": [],
   "source": [
    "# Your code for clustering\n",
    "from sklearn.cluster import AgglomerativeClustering\n",
    "\n",
    "sc = AgglomerativeClustering(n_clusters=4)\n",
    "sc.fit(X=Theta_new)\n",
    "print(sc.labels_.shape)\n",
    "print(Theta_new.shape)\n"
   ]
  },
  {
   "cell_type": "markdown",
   "metadata": {},
   "source": [
    "5. We now consider the case where we use the trained LDA model to extract topic mixture weight ${\\boldsymbol\\theta}_d$ representations for some additional \"test\" utterances. For this purpose we fix the $\\boldsymbol{\\Phi}$ obtained from the last GS iteration and we will only iteratively re-estimate the $\\boldsymbol{\\theta}_d$ and topic assignment counts $\\boldsymbol{C}_{dv}^k$ for each additional test document.\n",
    "\n",
    " In the code below we handcraft the word count matrix **M_test** for 4 additional documents.\n",
    "\n",
    " * For each document in **M_test** run 50 GS iterations and store $\\boldsymbol{\\theta}_d$ from each iteration. \n",
    "   * Start the GS iterations from the initial values of $\\boldsymbol{\\theta}_d$ defined by the matrix Theta_test in the code below\n",
    "   * You can try different number of iterations to get a better intuition of what is going on\n",
    " * For each document, produce a simplex plot with the points that show the evolution of $\\boldsymbol{\\theta}_d$ over the GS iterations.\n",
    "  * Label the corners of the simplex with the most likely word from the corresponding learned topic specific distribution $\\boldsymbol{\\varphi}_k$. \n",
    "   * Use a single call of the function plot_points_in_simplex to plot all the $\\boldsymbol{\\theta}_d$ (from all iterations for a single document) at once. \n",
    "   * Connect the points from consecutive GS iterations by a dotted line (replace the parameter *ls='none'* with *ls=':'* when calling the function **plot_points_in_simplex**)\n",
    " * What topics are likely to be contained in each document? Which document collection do they seem to be coming from?\n",
    " * Look at the evolution of $\\boldsymbol{\\theta}_d$, can you see the burn-in phase? Where? \n",
    " * The points for some documents should be more concentrated than for others. Explain why."
   ]
  },
  {
   "cell_type": "code",
   "execution_count": null,
   "metadata": {},
   "outputs": [],
   "source": [
    "\n",
    "M_test = np.array([[6, 3, 1, 0, 0],\n",
    "                   [16, 171, 110, 50, 160],\n",
    "                   [6, 1, 0, 8, 5],\n",
    "                   [159, 78, 14, 97, 121]])\n",
    "print(\"Word count matrix for additional test documents\\n\", M_test)\n",
    "\n",
    "#\n",
    "D_test = len(M_test)\n",
    "Theta_test = np.array([[1, 0, 0]] * D_test)\n",
    "print(D_test)\n",
    "print(Theta_test)\n",
    "\n",
    "Theta_new_2, Phi_new_2, Counts_2, log_probabilities_2 = train_lda_GS(num_iterations=100, _Theta=Theta_test.copy(),\n",
    "                                                                     _D=D_test, _M=M_test)\n"
   ]
  },
  {
   "cell_type": "code",
   "execution_count": null,
   "outputs": [],
   "source": [
    "\n",
    "fig = plt.figure()\n",
    "ax = fig.add_subplot(1, 1, 1)\n",
    "ax.plot(log_probabilities_2, color='tab:blue')\n",
    "ax.set_title('line plot with data points')\n",
    "plt.show()\n"
   ],
   "metadata": {
    "collapsed": false
   }
  },
  {
   "cell_type": "code",
   "execution_count": null,
   "outputs": [],
   "source": [
    "\n",
    "plot_simplex([vocabulary[i] for i in ground_truth_idxs])\n",
    "markers = ['+', 'x', '^', '*']\n",
    "colors = ['r', 'b', 'g', 'm']\n",
    "for i, t in enumerate(Theta_new_2):\n",
    "    plot_points_in_simplex(t, c=colors[sc.labels_[i]], ls=':', marker=markers[sc.labels_[i]])\n"
   ],
   "metadata": {
    "collapsed": false
   }
  },
  {
   "cell_type": "markdown",
   "metadata": {},
   "source": [
    "# Training LDA model using Variational Bayes inference\n",
    "## Summary of the inference algorithm\n",
    "\n",
    "The VB inference attempts to obtain a good approximation of the posterior distribution \n",
    "\n",
    "$$q(\\boldsymbol{Z}, \\boldsymbol{\\Theta}, \\boldsymbol{\\Phi}) \\approx P(\\boldsymbol{Z}, \\boldsymbol{\\Theta}, \\boldsymbol{\\Phi}| \\boldsymbol{W})$$\n",
    "\n",
    "for that, we use mean field approximation, where we assume the factorization\n",
    "\n",
    "$$q(\\boldsymbol{Z}, \\boldsymbol{\\Theta}, \\boldsymbol{\\Phi}) =  q(\\boldsymbol{Z}) q(\\boldsymbol{\\Theta}, \\boldsymbol{\\Phi})$$\n",
    "which, because of induced factorizations, further equals to \n",
    "$$q(\\boldsymbol{Z}) q(\\boldsymbol{\\Theta}, \\boldsymbol{\\Phi}) = \\prod_{d=1}^D \\prod_{n=1}^N q(z_{dn}) \\prod_{d=1}^D q(\\boldsymbol{\\theta}_d) \\prod_{k=1}^K q(\\boldsymbol{\\varphi}_k)$$\n",
    "\n",
    "therefore we will be interested in estimating the independent approximate posterior distributions $q(\\boldsymbol{\\theta}_d)$ and $q(\\boldsymbol{\\varphi}_k)$ for each document $d$ and topic $k$. The Variational Bayes updates dictates that these distributions are $Dir(\\boldsymbol{\\theta}_d|\\alpha_d^*)$ and $Dir(\\boldsymbol{\\varphi}_k|\\beta_k^*)$. Our main task in the VB inference is to estimate the parameters $\\alpha_d^*=[\\alpha_{d1}^*,\\alpha_{d2}^*,\\dots,\\alpha_{dK}^*]^T$ and $\\beta_k^*=[\\beta_{k1}^*,\\beta_{k2}^*,\\dots,\\beta_{kV}^*]$.\n",
    "\n",
    "The iterative algorithm for the VB inference goes as follows:\n",
    "\n",
    "1. Initialize all $\\alpha_{dk}^*$ and $\\beta_{kv}^*$ (e.g. randomly).\n",
    "2. For each $d=1, \\dots, D$, $v=1, \\dots, V$  and $k=1, \\dots, K$,\n",
    "$$\\begin{align}\n",
    "\\ln \\rho_{dvk} &= \\psi(\\alpha_{dk}^*) - \\psi\\left(\\sum_{k'=1}^K \\alpha_{dk'}^*\\right) + \\psi(\\beta_{kv}^*) -\\ \\psi\\left(\\sum_{v=1}^V \\beta_{kv}^*\\right) \\\\\n",
    "\\pi_{dvk} &= \\frac{\\rho_{dvk}}{\\sum_{k'=1}^K\\rho_{dvk'}} \\\\\n",
    "\\bar{C}_{dv}^k &=\\pi_{dvk} M_{dv} \\\\\n",
    "\\end{align}$$\n",
    "3. For each $d=1, \\dots, D$ and $k=1, \\dots, K$,\n",
    "$$\\alpha_{dk}^* = \\alpha_{0k} + \\sum_{v=1}^V \\bar{C}_{dv}^k$$\n",
    "where  $\\alpha_{0k}$ are the elements of the prior $\\boldsymbol{\\alpha}_0$\n",
    "4. For each $k=1, \\dots, K$ and $v=1, \\dots, V$,\n",
    "$$\\beta_{kv}^* = \\beta_{0v} + \\sum_{d=1}^D \\bar{C}_{dv}^k$$\n",
    "where  $\\beta_{0v}$ are the elements of the prior $\\boldsymbol{\\beta}_0$\n",
    "5. Go to step 2. and repeat for a desired number of iterations \n",
    "\n",
    "To monitor progress, we can evaluate $\\mathcal{L}(q(\\boldsymbol{Z}, \\boldsymbol{\\Theta}, \\boldsymbol{\\Phi}))$ in every iteration. It is easiest done right after the step 2. as described on slide 31. \"Efficient ELBO calculation\" in the [BAYa class slides](http://www.fit.vutbr.cz/study/courses/BAYa/public/prednasky/4.5-LatentDirichletAllocation.pdf)).\n",
    "\n",
    "After the convergence, we can represent each document by the **expected** vector of topic mixture weights (i.e. expected value of variable $\\boldsymbol{\\theta}_d$)\n",
    "\n",
    "$$\\boldsymbol{\\hat{\\theta}}_d = \\mathbb{E}_{q(\\boldsymbol{\\theta}_d)}[\\boldsymbol{\\theta}_d)] = \\int \\boldsymbol{\\theta}_d \\operatorname{Dir}(\\boldsymbol{\\theta}_d|\\boldsymbol{\\alpha}_d^*) d\\boldsymbol{\\theta}_d = \\frac{\\boldsymbol{\\alpha}_d^*}{\\sum_{k=1}^K \\alpha_{dk}^*},$$\n",
    "which can be seen as the posterior predictive distribution over topics for document $d$. Similarly, we can obtain expected topic specific word distributions\n",
    "$$\\boldsymbol{\\hat{\\varphi}}_k = \\mathbb{E}_{q(\\boldsymbol{\\varphi}_k)}[\\boldsymbol{\\varphi}_k)] = \\frac{\\boldsymbol{\\beta}_k^*}{\\sum_{v=1}^V \\beta_{kv}^*},$$\n"
   ]
  },
  {
   "cell_type": "markdown",
   "metadata": {},
   "source": [
    "## Tasks and questions:\n",
    "\n",
    "1. Implement Variational Bayes inference for training the Bayesian Latent Dirichlet Allocation model described above. \n",
    " * Run sufficient number of VB iterations to make the algorithm converge\n",
    " * Store the ELBO $\\mathcal{L}(q(\\boldsymbol{Z}, \\boldsymbol{\\Theta}, \\boldsymbol{\\Phi}))$ in every iteration to monitor the convergence.\n",
    "\n",
    " The following field comes with the definition of variables that you will use in your implementation. As done before for the Gibbs Sampling inference, we provide parameters of priors **alpha0** and **beta0**.\n",
    "The rows of the matrix **alpha** the initial parameters for individual approximate posteriors $q(\\boldsymbol{\\theta}_d)$ for all documents $d$. Similarly, each of the rows of **beta** are the initial parameters for each $q(\\boldsymbol{\\varphi}_k)$.\n",
    "Please reuse the variables **alpha** and **beta** to store the parameters updated in each VB iteration. As before we choose $K=3$."
   ]
  },
  {
   "cell_type": "code",
   "execution_count": null,
   "metadata": {},
   "outputs": [],
   "source": [
    "# Make use of the following variables\n",
    "\n",
    "D, V = M.shape  # number of training documents D and size of vocabulary V\n",
    "K = 3\n",
    "alpha0 = np.ones(K, dtype='float')  # Parameters of prior for Theta\n",
    "beta0 = np.ones(V, dtype='float')  # Parameters of prior for Phi\n",
    "alpha = np.random.randn(D, K)  # rows are initial parameters of approximate posterior for each q(theta_d)\n",
    "beta = np.random.randn(K, V)  # rows are initial parameters of approximate posterior for each q(varphi_k)\n",
    "# Reuse the variables alpha and beta to store the parameters of the approximate posteriors updated in each VB iteration"
   ]
  },
  {
   "cell_type": "code",
   "execution_count": null,
   "outputs": [],
   "source": [
    "\n",
    "print(alpha0)\n",
    "print(beta0)\n",
    "print(alpha)\n",
    "print(beta)\n"
   ],
   "metadata": {
    "collapsed": false
   }
  },
  {
   "cell_type": "code",
   "execution_count": null,
   "metadata": {},
   "outputs": [],
   "source": [
    "# Your code for Variational Bayes inference\n",
    "\n",
    "from scipy.special import psi, gammaln, kl_div\n",
    "from scipy.stats import entropy\n",
    "\n",
    "\n",
    "def compute_elbo_likelihood(_D, _V, _K, _M, alpha, beta, _C):\n",
    "    log_likelihood = 0\n",
    "\n",
    "    # Calculate Counts sums\n",
    "\n",
    "    # Calculate KL over alphas\n",
    "    e_a = entropy(alpha0, alpha)\n",
    "\n",
    "    # Calculate KL over betas\n",
    "    e_b = entropy(beta0, beta)\n",
    "\n",
    "    #\n",
    "    return log_likelihood\n",
    "\n",
    "\n",
    "def train_lda_VB(num_iterations: int = 1,\n",
    "                 _D=D,\n",
    "                 _V=V,\n",
    "                 _K=K,\n",
    "                 _M=M.copy(),\n",
    "                 _alpha=alpha.copy(),\n",
    "                 _beta=beta.copy()):\n",
    "    #\n",
    "    rho = np.zeros((_D, _V, _K))\n",
    "    pi = np.zeros((_D, _V, _K))\n",
    "    C = np.zeros((_D, _V, _K))\n",
    "    elbo = []\n",
    "\n",
    "    #\n",
    "    for _ in tqdm.tqdm(range(num_iterations)):\n",
    "        for d in range(_D):  # each document\n",
    "            for v in range(_V):  # each word\n",
    "                for k in range(_K):  # each topic\n",
    "                    # 2.\n",
    "                    rho[d, v, k] = (psi(alpha[d, k]) -\n",
    "                                    psi(np.sum(alpha[d])) +\n",
    "                                    psi(beta[k, v]) -\n",
    "                                    psi(np.sum(beta[k])))\n",
    "                    pi[d, v, k] = rho[d, v, k] / np.sum(rho[d, v])\n",
    "                    C[d, v, k] = pi[d, v, k] * M[d, v]\n",
    "\n",
    "        # 3.\n",
    "        for d in range(_D):\n",
    "            for k in range(_K):\n",
    "                _alpha[d, k] = alpha0[k] + np.sum(C[d])\n",
    "\n",
    "        # 4.\n",
    "        for k in range(_K):\n",
    "            for v in range(_V):\n",
    "                _beta[k, v] = beta0[v] + np.sum(C[:, v, k])\n",
    "\n",
    "        elbo.append(compute_elbo_likelihood(_D, _V, _K, _M, _alpha, _beta, C))\n",
    "\n",
    "    # return alpha_star, beta_star, rho, pi, C_hat\n",
    "    # return _Theta, _Phi, C, log_probabilities\n",
    "\n",
    "\n",
    "# Theta_new, Phi_new, Counts, log_probabilities = train_lda_VB(num_iterations=1)\n",
    "alpha_new, beta_new, Count_VB, = train_lda_VB(num_iterations=1)\n"
   ]
  },
  {
   "cell_type": "code",
   "execution_count": null,
   "outputs": [],
   "source": [
    "gammaln"
   ],
   "metadata": {
    "collapsed": false
   }
  },
  {
   "cell_type": "markdown",
   "metadata": {},
   "source": [
    "2. Plot the evolution of ELBO $\\mathcal{L}(q(\\boldsymbol{Z}, \\boldsymbol{\\Theta}, \\boldsymbol{\\Phi}))$  over the iterations to monitor the convergence of the VB inference. \n",
    " * What can we see from the plot? In how many iterations does the VB inference converge?\n",
    " * How does it differ from $\\ln P(\\boldsymbol{W}, \\boldsymbol{Z}, \\boldsymbol{\\Theta}, \\boldsymbol{\\Phi})$ that we ploted for the Gibbs Sampling inference?"
   ]
  },
  {
   "cell_type": "code",
   "execution_count": null,
   "metadata": {},
   "outputs": [],
   "source": [
    "#Your code goes here"
   ]
  },
  {
   "cell_type": "markdown",
   "metadata": {},
   "source": [
    "3. Use the function plot_topic_distributions to plot the \n",
    "expected topic specific word ditributions $\\boldsymbol{\\hat{\\Phi}} = [\\boldsymbol{\\hat{\\varphi}}_1, \\boldsymbol{\\hat{\\varphi}}_2, \\dots, \\boldsymbol{\\hat{\\varphi}}_K]$. Plot also the ground truth $\\boldsymbol{\\Phi}$. Is the learned $\\boldsymbol{\\hat{\\Phi}}$ close to the ground truth?\n"
   ]
  },
  {
   "cell_type": "code",
   "execution_count": null,
   "metadata": {},
   "outputs": [],
   "source": [
    "#Your code goes here"
   ]
  },
  {
   "cell_type": "markdown",
   "metadata": {},
   "source": [
    "4. Evaluate expected topic mixture weights $\\boldsymbol{\\hat{\\theta}}_d$ for each training document $d$ and cluster them into 4 clusters in a similar way as we did for the GS inference.\n",
    " * As for GS inference, plot all $\\boldsymbol{\\hat{\\theta}}_d$ into one simplex. For each document, indicate the label assigned by the clustering by the marker and the ground truth collection label by the color.\n",
    " * Again, label the corners of the simplex with the most likely word from the corresponding learned expected topic specific distribution $\\boldsymbol{\\hat{\\varphi}}_k$. \n",
    " * Comment on how well do the obtained clusters match the ground truth collection labels.\n",
    " * Is there any difference compared to the clustering obtained in the GS inference case?"
   ]
  },
  {
   "cell_type": "code",
   "execution_count": null,
   "metadata": {},
   "outputs": [],
   "source": [
    "#Your code for clustering"
   ]
  },
  {
   "cell_type": "markdown",
   "metadata": {},
   "source": [
    "5. As we did before for the GS inference, consider now the case where we use the LDA model trained using VB inference to extract expected topic mixture weight $\\boldsymbol{\\hat{\\theta}}_d$ for the 4 additional utterances represented by the matrix **M_test** (as defined before). For this purpose, run VB inference where all $\\boldsymbol{\\beta}_k^*$ (and therefore also $q(\\boldsymbol{\\varphi}_k$) stay fixed.\n",
    " * For each of the 4 documents, produce separate 2-simplex plot using function **plot_simplex**\n",
    "  * Label the corners of each simplex with the most likely word from the corresponding expected topic specific distribution $\\boldsymbol{\\hat{\\varphi}}_k$. \n",
    " * To each simplex, plot document specific dirichlet distribution $q(\\boldsymbol{{\\theta}}_d)$ using the fuction  **plot_dirichlet**.\n",
    " * What dose this plot represent? How does it differ for the different test documents and why?\n",
    " * To each simplex, plot the corresponding expected topic mixture weights $\\boldsymbol{\\hat{\\theta}}_d$ as a single point using the function **plot_points_in_simplex**."
   ]
  },
  {
   "cell_type": "code",
   "execution_count": null,
   "metadata": {},
   "outputs": [],
   "source": [
    "#Your code goes here"
   ]
  },
  {
   "cell_type": "code",
   "execution_count": null,
   "outputs": [],
   "source": [],
   "metadata": {
    "collapsed": false
   }
  }
 ],
 "metadata": {
  "kernelspec": {
   "display_name": "Python 3 (ipykernel)",
   "language": "python",
   "name": "python3"
  },
  "language_info": {
   "codemirror_mode": {
    "name": "ipython",
    "version": 3
   },
   "file_extension": ".py",
   "mimetype": "text/x-python",
   "name": "python",
   "nbconvert_exporter": "python",
   "pygments_lexer": "ipython3",
   "version": "3.9.13"
  }
 },
 "nbformat": 4,
 "nbformat_minor": 2
}
